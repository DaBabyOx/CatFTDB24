{
 "cells": [
  {
   "metadata": {},
   "cell_type": "markdown",
   "source": [
    "# Database Notes\n",
    "#### Question? contact \"ox.\" on discord"
   ],
   "id": "a2f8326bd486265f"
  },
  {
   "metadata": {},
   "cell_type": "markdown",
   "source": "Utilities, skip to the next part",
   "id": "7512d4480cc122e"
  },
  {
   "cell_type": "code",
   "id": "initial_id",
   "metadata": {
    "collapsed": true,
    "ExecuteTime": {
     "end_time": "2024-06-17T15:33:06.634522Z",
     "start_time": "2024-06-17T15:33:06.509739Z"
    }
   },
   "source": [
    "import pyodbc\n",
    "from sqlalchemy import create_engine\n",
    "from sqlalchemy.engine import URL\n",
    "\n",
    "connection_params = {\n",
    "    'driver': 'SQL Server',\n",
    "    'server': '127.0.0.1,1433',\n",
    "    'database': 'UasExample',\n",
    "    'trusted_connection': 'yes'}\n",
    "\n",
    "connection_url = URL.create(\n",
    "    \"mssql+pyodbc\",\n",
    "    query={\n",
    "        \"odbc_connect\": f\"DRIVER={{{connection_params['driver']}}};\"\n",
    "                        f\"SERVER={connection_params['server']};\"\n",
    "                        f\"DATABASE={connection_params['database']};\"\n",
    "                        f\"Trusted_Connection={connection_params['trusted_connection']};\"})\n",
    "\n",
    "engine = create_engine(connection_url)\n",
    "if engine:\n",
    "    %load_ext sql\n",
    "    %sql engine\n",
    "    print('Conected successfully!')\n",
    "else:\n",
    "    print('Conected unsuccessfully!')"
   ],
   "outputs": [
    {
     "name": "stdout",
     "output_type": "stream",
     "text": [
      "The sql extension is already loaded. To reload it, use:\n",
      "  %reload_ext sql\n",
      "Conected successfully!\n"
     ]
    }
   ],
   "execution_count": 10
  },
  {
   "metadata": {},
   "cell_type": "markdown",
   "source": [
    "## Aggregate Functions\n",
    "Almost of all Aggregates doesn't count the null values, but Count command does.\n",
    "### Min\n",
    "> It selects the least value of the group."
   ],
   "id": "666944e0171f84a7"
  },
  {
   "metadata": {
    "ExecuteTime": {
     "end_time": "2024-06-16T03:12:12.696991Z",
     "start_time": "2024-06-16T03:12:12.670919Z"
    }
   },
   "cell_type": "code",
   "source": [
    "%%sql\n",
    "select concat('$',min(DessertPrice)) as [Min Price]\n",
    "from MsDessert"
   ],
   "id": "c3f0984ba10cdf5",
   "outputs": [
    {
     "data": {
      "text/plain": [
       "Running query in 'mssql+pyodbc://?odbc_connect=DRIVER%3D%7BSQL+Server%7D%3BSERVER%3D127.0.0.1%2C1433%3BDATABASE%3DUasExample%3BTrusted_Connection%3Dyes%3B'"
      ],
      "text/html": [
       "<span style=\"None\">Running query in &#x27;mssql+pyodbc://?odbc_connect=DRIVER%3D%7BSQL+Server%7D%3BSERVER%3D127.0.0.1%2C1433%3BDATABASE%3DUasExample%3BTrusted_Connection%3Dyes%3B&#x27;</span>"
      ]
     },
     "metadata": {},
     "output_type": "display_data"
    },
    {
     "data": {
      "text/plain": [
       "+-----------+\n",
       "| Min Price |\n",
       "+-----------+\n",
       "|    $10    |\n",
       "+-----------+"
      ],
      "text/html": [
       "<table>\n",
       "    <thead>\n",
       "        <tr>\n",
       "            <th>Min Price</th>\n",
       "        </tr>\n",
       "    </thead>\n",
       "    <tbody>\n",
       "        <tr>\n",
       "            <td>$10</td>\n",
       "        </tr>\n",
       "    </tbody>\n",
       "</table>"
      ]
     },
     "execution_count": 2,
     "metadata": {},
     "output_type": "execute_result"
    }
   ],
   "execution_count": 2
  },
  {
   "metadata": {},
   "cell_type": "markdown",
   "source": [
    "### Max\n",
    "> It selects the most value of the group."
   ],
   "id": "856af1522df32553"
  },
  {
   "metadata": {
    "ExecuteTime": {
     "end_time": "2024-06-16T03:12:12.714293Z",
     "start_time": "2024-06-16T03:12:12.698073Z"
    }
   },
   "cell_type": "code",
   "source": [
    "%%sql\n",
    "select concat('$',max(DessertPrice)) as [Max Price]\n",
    "from MsDessert"
   ],
   "id": "8f50b7072cf2f08d",
   "outputs": [
    {
     "data": {
      "text/plain": [
       "Running query in 'mssql+pyodbc://?odbc_connect=DRIVER%3D%7BSQL+Server%7D%3BSERVER%3D127.0.0.1%2C1433%3BDATABASE%3DUasExample%3BTrusted_Connection%3Dyes%3B'"
      ],
      "text/html": [
       "<span style=\"None\">Running query in &#x27;mssql+pyodbc://?odbc_connect=DRIVER%3D%7BSQL+Server%7D%3BSERVER%3D127.0.0.1%2C1433%3BDATABASE%3DUasExample%3BTrusted_Connection%3Dyes%3B&#x27;</span>"
      ]
     },
     "metadata": {},
     "output_type": "display_data"
    },
    {
     "data": {
      "text/plain": [
       "+-----------+\n",
       "| Max Price |\n",
       "+-----------+\n",
       "|    $35    |\n",
       "+-----------+"
      ],
      "text/html": [
       "<table>\n",
       "    <thead>\n",
       "        <tr>\n",
       "            <th>Max Price</th>\n",
       "        </tr>\n",
       "    </thead>\n",
       "    <tbody>\n",
       "        <tr>\n",
       "            <td>$35</td>\n",
       "        </tr>\n",
       "    </tbody>\n",
       "</table>"
      ]
     },
     "execution_count": 3,
     "metadata": {},
     "output_type": "execute_result"
    }
   ],
   "execution_count": 3
  },
  {
   "metadata": {},
   "cell_type": "markdown",
   "source": [
    "### Count\n",
    "> The overall function of this query command is to count how much data is stored on a table."
   ],
   "id": "c475d7f384d29945"
  },
  {
   "metadata": {
    "ExecuteTime": {
     "end_time": "2024-06-16T03:12:12.732648Z",
     "start_time": "2024-06-16T03:12:12.715300Z"
    }
   },
   "cell_type": "code",
   "source": [
    "%%sql\n",
    "select count(DessertTypeID) as [Total Type of Desserts]\n",
    "from MsDessertType"
   ],
   "id": "ad28a13765ceb3e5",
   "outputs": [
    {
     "data": {
      "text/plain": [
       "Running query in 'mssql+pyodbc://?odbc_connect=DRIVER%3D%7BSQL+Server%7D%3BSERVER%3D127.0.0.1%2C1433%3BDATABASE%3DUasExample%3BTrusted_Connection%3Dyes%3B'"
      ],
      "text/html": [
       "<span style=\"None\">Running query in &#x27;mssql+pyodbc://?odbc_connect=DRIVER%3D%7BSQL+Server%7D%3BSERVER%3D127.0.0.1%2C1433%3BDATABASE%3DUasExample%3BTrusted_Connection%3Dyes%3B&#x27;</span>"
      ]
     },
     "metadata": {},
     "output_type": "display_data"
    },
    {
     "data": {
      "text/plain": [
       "+------------------------+\n",
       "| Total Type of Desserts |\n",
       "+------------------------+\n",
       "|           5            |\n",
       "+------------------------+"
      ],
      "text/html": [
       "<table>\n",
       "    <thead>\n",
       "        <tr>\n",
       "            <th>Total Type of Desserts</th>\n",
       "        </tr>\n",
       "    </thead>\n",
       "    <tbody>\n",
       "        <tr>\n",
       "            <td>5</td>\n",
       "        </tr>\n",
       "    </tbody>\n",
       "</table>"
      ]
     },
     "execution_count": 4,
     "metadata": {},
     "output_type": "execute_result"
    }
   ],
   "execution_count": 4
  },
  {
   "metadata": {},
   "cell_type": "markdown",
   "source": [
    "### Sum\n",
    "> The overall function of this query command is to do counting activities (integers, double, float)."
   ],
   "id": "815859fb65ef1558"
  },
  {
   "metadata": {
    "ExecuteTime": {
     "end_time": "2024-06-16T03:12:12.756521Z",
     "start_time": "2024-06-16T03:12:12.734028Z"
    }
   },
   "cell_type": "code",
   "source": [
    "%%sql\n",
    "select concat('$',sum(DessertPrice)) as [Total Price of all Desserts]\n",
    "from MsDessert"
   ],
   "id": "b674da7c27526e34",
   "outputs": [
    {
     "data": {
      "text/plain": [
       "Running query in 'mssql+pyodbc://?odbc_connect=DRIVER%3D%7BSQL+Server%7D%3BSERVER%3D127.0.0.1%2C1433%3BDATABASE%3DUasExample%3BTrusted_Connection%3Dyes%3B'"
      ],
      "text/html": [
       "<span style=\"None\">Running query in &#x27;mssql+pyodbc://?odbc_connect=DRIVER%3D%7BSQL+Server%7D%3BSERVER%3D127.0.0.1%2C1433%3BDATABASE%3DUasExample%3BTrusted_Connection%3Dyes%3B&#x27;</span>"
      ]
     },
     "metadata": {},
     "output_type": "display_data"
    },
    {
     "data": {
      "text/plain": [
       "+-----------------------------+\n",
       "| Total Price of all Desserts |\n",
       "+-----------------------------+\n",
       "|             $403            |\n",
       "+-----------------------------+"
      ],
      "text/html": [
       "<table>\n",
       "    <thead>\n",
       "        <tr>\n",
       "            <th>Total Price of all Desserts</th>\n",
       "        </tr>\n",
       "    </thead>\n",
       "    <tbody>\n",
       "        <tr>\n",
       "            <td>$403</td>\n",
       "        </tr>\n",
       "    </tbody>\n",
       "</table>"
      ]
     },
     "execution_count": 5,
     "metadata": {},
     "output_type": "execute_result"
    }
   ],
   "execution_count": 5
  },
  {
   "metadata": {},
   "cell_type": "markdown",
   "source": [
    "### Avg\n",
    "> The overall function of this query command is to count for the average from the values ina table."
   ],
   "id": "98c4efe0ff4effc4"
  },
  {
   "metadata": {
    "ExecuteTime": {
     "end_time": "2024-06-16T03:12:12.774840Z",
     "start_time": "2024-06-16T03:12:12.757531Z"
    }
   },
   "cell_type": "code",
   "source": [
    "%%sql\n",
    "select concat('$',avg(DessertPrice)) as [Average Price]\n",
    "from MsDessert"
   ],
   "id": "45c0121a5770bfef",
   "outputs": [
    {
     "data": {
      "text/plain": [
       "Running query in 'mssql+pyodbc://?odbc_connect=DRIVER%3D%7BSQL+Server%7D%3BSERVER%3D127.0.0.1%2C1433%3BDATABASE%3DUasExample%3BTrusted_Connection%3Dyes%3B'"
      ],
      "text/html": [
       "<span style=\"None\">Running query in &#x27;mssql+pyodbc://?odbc_connect=DRIVER%3D%7BSQL+Server%7D%3BSERVER%3D127.0.0.1%2C1433%3BDATABASE%3DUasExample%3BTrusted_Connection%3Dyes%3B&#x27;</span>"
      ]
     },
     "metadata": {},
     "output_type": "display_data"
    },
    {
     "data": {
      "text/plain": [
       "+---------------+\n",
       "| Average Price |\n",
       "+---------------+\n",
       "|      $20      |\n",
       "+---------------+"
      ],
      "text/html": [
       "<table>\n",
       "    <thead>\n",
       "        <tr>\n",
       "            <th>Average Price</th>\n",
       "        </tr>\n",
       "    </thead>\n",
       "    <tbody>\n",
       "        <tr>\n",
       "            <td>$20</td>\n",
       "        </tr>\n",
       "    </tbody>\n",
       "</table>"
      ]
     },
     "execution_count": 6,
     "metadata": {},
     "output_type": "execute_result"
    }
   ],
   "execution_count": 6
  },
  {
   "metadata": {},
   "cell_type": "markdown",
   "source": [
    "## Set Operators\n",
    "### Union\n",
    "> this function is used to combine 1 column(within a query statement) with another, it only takes the distinct values, it has some constraints, and that is:\n",
    ">- It needs the same number of columns.\n",
    ">- Similar data type.\n",
    ">- Have the same order."
   ],
   "id": "44517d8ca8388bd6"
  },
  {
   "metadata": {
    "ExecuteTime": {
     "end_time": "2024-06-16T03:12:12.795502Z",
     "start_time": "2024-06-16T03:12:12.775845Z"
    }
   },
   "cell_type": "code",
   "source": [
    "%%sql\n",
    "select CustomerName as Name\n",
    "from MsCustomer\n",
    "union\n",
    "select Staffname as Name\n",
    "from MsStaff"
   ],
   "id": "50d575ef7a35d9e4",
   "outputs": [
    {
     "data": {
      "text/plain": [
       "Running query in 'mssql+pyodbc://?odbc_connect=DRIVER%3D%7BSQL+Server%7D%3BSERVER%3D127.0.0.1%2C1433%3BDATABASE%3DUasExample%3BTrusted_Connection%3Dyes%3B'"
      ],
      "text/html": [
       "<span style=\"None\">Running query in &#x27;mssql+pyodbc://?odbc_connect=DRIVER%3D%7BSQL+Server%7D%3BSERVER%3D127.0.0.1%2C1433%3BDATABASE%3DUasExample%3BTrusted_Connection%3Dyes%3B&#x27;</span>"
      ]
     },
     "metadata": {},
     "output_type": "display_data"
    },
    {
     "data": {
      "text/plain": [
       "+----------------+\n",
       "|      Name      |\n",
       "+----------------+\n",
       "|  Alex Meekins  |\n",
       "|  Amy Grenkov   |\n",
       "| Cherice Jermey |\n",
       "|  Chet Marrie   |\n",
       "|  Clem Wijaya   |\n",
       "|   Curr Rosie   |\n",
       "|  Darsie Sari   |\n",
       "|  Dene Budiman  |\n",
       "| Desmond Oswind |\n",
       "| Dirk Titterell |\n",
       "+----------------+\n",
       "Truncated to displaylimit of 10."
      ],
      "text/html": [
       "<table>\n",
       "    <thead>\n",
       "        <tr>\n",
       "            <th>Name</th>\n",
       "        </tr>\n",
       "    </thead>\n",
       "    <tbody>\n",
       "        <tr>\n",
       "            <td>Alex Meekins</td>\n",
       "        </tr>\n",
       "        <tr>\n",
       "            <td>Amy Grenkov</td>\n",
       "        </tr>\n",
       "        <tr>\n",
       "            <td>Cherice Jermey</td>\n",
       "        </tr>\n",
       "        <tr>\n",
       "            <td>Chet Marrie</td>\n",
       "        </tr>\n",
       "        <tr>\n",
       "            <td>Clem Wijaya</td>\n",
       "        </tr>\n",
       "        <tr>\n",
       "            <td>Curr Rosie</td>\n",
       "        </tr>\n",
       "        <tr>\n",
       "            <td>Darsie Sari</td>\n",
       "        </tr>\n",
       "        <tr>\n",
       "            <td>Dene Budiman</td>\n",
       "        </tr>\n",
       "        <tr>\n",
       "            <td>Desmond Oswind</td>\n",
       "        </tr>\n",
       "        <tr>\n",
       "            <td>Dirk Titterell</td>\n",
       "        </tr>\n",
       "    </tbody>\n",
       "</table>\n",
       "<span style=\"font-style:italic;text-align:center;\">Truncated to <a href=\"https://jupysql.ploomber.io/en/latest/api/configuration.html#displaylimit\">displaylimit</a> of 10.</span>"
      ]
     },
     "execution_count": 7,
     "metadata": {},
     "output_type": "execute_result"
    }
   ],
   "execution_count": 7
  },
  {
   "metadata": {},
   "cell_type": "markdown",
   "source": [
    "### Intersect\n",
    ">It is used just like Union, to combine 2 queries, but it will return values that has both of the prerequisites(or is the same) in both of the queries."
   ],
   "id": "5aa0c7936a8dd58a"
  },
  {
   "metadata": {
    "ExecuteTime": {
     "end_time": "2024-06-16T03:12:12.822353Z",
     "start_time": "2024-06-16T03:12:12.796516Z"
    }
   },
   "cell_type": "code",
   "source": [
    "%%sql\n",
    "select DessertName\n",
    "from MsDessert\n",
    "where DessertID in (select DessertID from TransactionDetail)\n",
    "intersect\n",
    "select DessertName\n",
    "from MsDessert"
   ],
   "id": "771af65f5383af3f",
   "outputs": [
    {
     "data": {
      "text/plain": [
       "Running query in 'mssql+pyodbc://?odbc_connect=DRIVER%3D%7BSQL+Server%7D%3BSERVER%3D127.0.0.1%2C1433%3BDATABASE%3DUasExample%3BTrusted_Connection%3Dyes%3B'"
      ],
      "text/html": [
       "<span style=\"None\">Running query in &#x27;mssql+pyodbc://?odbc_connect=DRIVER%3D%7BSQL+Server%7D%3BSERVER%3D127.0.0.1%2C1433%3BDATABASE%3DUasExample%3BTrusted_Connection%3Dyes%3B&#x27;</span>"
      ]
     },
     "metadata": {},
     "output_type": "display_data"
    },
    {
     "data": {
      "text/plain": [
       "+--------------------+\n",
       "|    DessertName     |\n",
       "+--------------------+\n",
       "|   Avocado Juice    |\n",
       "|    Banana Kolak    |\n",
       "|  Blueberry Yogurt  |\n",
       "| Chocolate Snow Ice |\n",
       "|    Mango Juice     |\n",
       "|   Mangoo Pudding   |\n",
       "|  Mangoo Snow Ice   |\n",
       "|   Matcha Bingsoo   |\n",
       "|   Matcha Pudding   |\n",
       "|  Mix Fruit Yogurt  |\n",
       "+--------------------+\n",
       "Truncated to displaylimit of 10."
      ],
      "text/html": [
       "<table>\n",
       "    <thead>\n",
       "        <tr>\n",
       "            <th>DessertName</th>\n",
       "        </tr>\n",
       "    </thead>\n",
       "    <tbody>\n",
       "        <tr>\n",
       "            <td>Avocado Juice</td>\n",
       "        </tr>\n",
       "        <tr>\n",
       "            <td>Banana Kolak</td>\n",
       "        </tr>\n",
       "        <tr>\n",
       "            <td>Blueberry Yogurt</td>\n",
       "        </tr>\n",
       "        <tr>\n",
       "            <td>Chocolate Snow Ice</td>\n",
       "        </tr>\n",
       "        <tr>\n",
       "            <td>Mango Juice</td>\n",
       "        </tr>\n",
       "        <tr>\n",
       "            <td>Mangoo Pudding</td>\n",
       "        </tr>\n",
       "        <tr>\n",
       "            <td>Mangoo Snow Ice</td>\n",
       "        </tr>\n",
       "        <tr>\n",
       "            <td>Matcha Bingsoo</td>\n",
       "        </tr>\n",
       "        <tr>\n",
       "            <td>Matcha Pudding</td>\n",
       "        </tr>\n",
       "        <tr>\n",
       "            <td>Mix Fruit Yogurt</td>\n",
       "        </tr>\n",
       "    </tbody>\n",
       "</table>\n",
       "<span style=\"font-style:italic;text-align:center;\">Truncated to <a href=\"https://jupysql.ploomber.io/en/latest/api/configuration.html#displaylimit\">displaylimit</a> of 10.</span>"
      ]
     },
     "execution_count": 8,
     "metadata": {},
     "output_type": "execute_result"
    }
   ],
   "execution_count": 8
  },
  {
   "metadata": {},
   "cell_type": "markdown",
   "source": [
    "### Except\n",
    "> it is used the other way around Intersect, it returns only the unique values from both of the queries."
   ],
   "id": "116aa655e027ed07"
  },
  {
   "metadata": {
    "ExecuteTime": {
     "end_time": "2024-06-16T03:12:12.844389Z",
     "start_time": "2024-06-16T03:12:12.823417Z"
    }
   },
   "cell_type": "code",
   "source": [
    "%%sql\n",
    "select CustomerName as Name\n",
    "from MsCustomer\n",
    "except\n",
    "select StaffName as Name\n",
    "from MsStaff"
   ],
   "id": "ab7af48b5c0401c7",
   "outputs": [
    {
     "data": {
      "text/plain": [
       "Running query in 'mssql+pyodbc://?odbc_connect=DRIVER%3D%7BSQL+Server%7D%3BSERVER%3D127.0.0.1%2C1433%3BDATABASE%3DUasExample%3BTrusted_Connection%3Dyes%3B'"
      ],
      "text/html": [
       "<span style=\"None\">Running query in &#x27;mssql+pyodbc://?odbc_connect=DRIVER%3D%7BSQL+Server%7D%3BSERVER%3D127.0.0.1%2C1433%3BDATABASE%3DUasExample%3BTrusted_Connection%3Dyes%3B&#x27;</span>"
      ]
     },
     "metadata": {},
     "output_type": "display_data"
    },
    {
     "data": {
      "text/plain": [
       "+-------------------+\n",
       "|        Name       |\n",
       "+-------------------+\n",
       "|    Alex Meekins   |\n",
       "|    Amy Grenkov    |\n",
       "|   Cherice Jermey  |\n",
       "|   Dirk Titterell  |\n",
       "|    Dukey Diano    |\n",
       "|   Gabriela Scarf  |\n",
       "| Hadleigh Playfoot |\n",
       "|   Ingamar Carlin  |\n",
       "|   Javier Drewson  |\n",
       "|  Pooh McCutcheon  |\n",
       "+-------------------+\n",
       "Truncated to displaylimit of 10."
      ],
      "text/html": [
       "<table>\n",
       "    <thead>\n",
       "        <tr>\n",
       "            <th>Name</th>\n",
       "        </tr>\n",
       "    </thead>\n",
       "    <tbody>\n",
       "        <tr>\n",
       "            <td>Alex Meekins</td>\n",
       "        </tr>\n",
       "        <tr>\n",
       "            <td>Amy Grenkov</td>\n",
       "        </tr>\n",
       "        <tr>\n",
       "            <td>Cherice Jermey</td>\n",
       "        </tr>\n",
       "        <tr>\n",
       "            <td>Dirk Titterell</td>\n",
       "        </tr>\n",
       "        <tr>\n",
       "            <td>Dukey Diano</td>\n",
       "        </tr>\n",
       "        <tr>\n",
       "            <td>Gabriela Scarf</td>\n",
       "        </tr>\n",
       "        <tr>\n",
       "            <td>Hadleigh Playfoot</td>\n",
       "        </tr>\n",
       "        <tr>\n",
       "            <td>Ingamar Carlin</td>\n",
       "        </tr>\n",
       "        <tr>\n",
       "            <td>Javier Drewson</td>\n",
       "        </tr>\n",
       "        <tr>\n",
       "            <td>Pooh McCutcheon</td>\n",
       "        </tr>\n",
       "    </tbody>\n",
       "</table>\n",
       "<span style=\"font-style:italic;text-align:center;\">Truncated to <a href=\"https://jupysql.ploomber.io/en/latest/api/configuration.html#displaylimit\">displaylimit</a> of 10.</span>"
      ]
     },
     "execution_count": 9,
     "metadata": {},
     "output_type": "execute_result"
    }
   ],
   "execution_count": 9
  },
  {
   "metadata": {},
   "cell_type": "markdown",
   "source": [
    "## Data Control Langauge (DCL)\n",
    "### Grant\n",
    "> It is used to give a permission to use some query commands to a user / role."
   ],
   "id": "3e4a3797fe83b9b4"
  },
  {
   "metadata": {},
   "cell_type": "code",
   "source": [
    "%%sql\n",
    "-- MISC TO TEST OUT THE ONES BELOW (NOT RELATED)\n",
    "create login Admin\n",
    "with password = 'Testocando'\n",
    "\n",
    "create user AjiGaming\n",
    "for login Admin"
   ],
   "id": "897610122e9f66a3",
   "outputs": [],
   "execution_count": null
  },
  {
   "metadata": {},
   "cell_type": "code",
   "source": [
    "%%sql\n",
    "-- I don't know either it's me the one who is dumb or grant and revoke is just not runnable by Jupyter Notebook\n",
    "grant select, insert, update, references, alter, execute on MsCustomer to Admin with grant option as Owner"
   ],
   "id": "1d4a273ffd6f9dff",
   "outputs": [],
   "execution_count": null
  },
  {
   "metadata": {},
   "cell_type": "markdown",
   "source": [
    "### Revoke\n",
    "> It is used to de-permission a user / role to use some query commands."
   ],
   "id": "21859f8dc0c83021"
  },
  {
   "metadata": {},
   "cell_type": "code",
   "source": [
    "%%sql\n",
    "-- I don't know either it's me the one who is dumb or grant and revoke is just not runnable by Jupyter Notebook\n",
    "revoke select, insert, update, references, alter, execute on MsCustomer from Admin"
   ],
   "id": "2943c7a02f192629",
   "outputs": [],
   "execution_count": null
  },
  {
   "metadata": {},
   "cell_type": "markdown",
   "source": [
    "## Subqueries\n",
    "### In\n",
    "*Explaination Provided by Tri Setyaji Partly*\n",
    "> In is used to check if a value matches any value in a list of specified values or the result of a subquery\n",
    "> - In requires that the type that we choose in the where statement, is provided in the select of the subquery"
   ],
   "id": "c3a0cf6358db6b19"
  },
  {
   "metadata": {
    "ExecuteTime": {
     "end_time": "2024-06-17T13:53:33.376569Z",
     "start_time": "2024-06-17T13:53:33.338341Z"
    }
   },
   "cell_type": "code",
   "source": [
    "%%sql\n",
    "--provided by Ezzedin\n",
    "select CustomerName, CustomerAddress\n",
    "from MsCustomer mc\n",
    "where CustomerID in(\n",
    "\tselect CustomerID\n",
    "\tfrom TransactionHeader th\n",
    "\tgroup by CustomerID\n",
    "\thaving count(TransactionID) > (\n",
    "\t\tselect avg(TransactionCount) from (\n",
    "\t\t\tselect CustomerID, count(TransactionID) as TransactionCount\n",
    "\t\t\tfrom TransactionHeader th\n",
    "\t\t\tgroup by CustomerID\n",
    "\t\t)AvgTransaction))"
   ],
   "id": "c65d1e799088e75c",
   "outputs": [
    {
     "data": {
      "text/plain": [
       "Running query in 'mssql+pyodbc://?odbc_connect=DRIVER%3D%7BSQL+Server%7D%3BSERVER%3D127.0.0.1%2C1433%3BDATABASE%3DUasExample%3BTrusted_Connection%3Dyes%3B'"
      ],
      "text/html": [
       "<span style=\"None\">Running query in &#x27;mssql+pyodbc://?odbc_connect=DRIVER%3D%7BSQL+Server%7D%3BSERVER%3D127.0.0.1%2C1433%3BDATABASE%3DUasExample%3BTrusted_Connection%3Dyes%3B&#x27;</span>"
      ]
     },
     "metadata": {},
     "output_type": "display_data"
    },
    {
     "data": {
      "text/plain": [
       "+-----------------+---------------------------+\n",
       "|   CustomerName  |      CustomerAddress      |\n",
       "+-----------------+---------------------------+\n",
       "|   Dukey Diano   |       92 Sugar Alley      |\n",
       "|  Ingamar Carlin |      389 Surrey Pass      |\n",
       "|  Silvain Jozsa  |    19269 Maryland Hill    |\n",
       "| Wilbur Francino |  21840 Golden Leaf Avenue |\n",
       "|   Amy Grenkov   | 2263 Weeping Birch Center |\n",
       "+-----------------+---------------------------+"
      ],
      "text/html": [
       "<table>\n",
       "    <thead>\n",
       "        <tr>\n",
       "            <th>CustomerName</th>\n",
       "            <th>CustomerAddress</th>\n",
       "        </tr>\n",
       "    </thead>\n",
       "    <tbody>\n",
       "        <tr>\n",
       "            <td>Dukey Diano</td>\n",
       "            <td>92 Sugar Alley</td>\n",
       "        </tr>\n",
       "        <tr>\n",
       "            <td>Ingamar Carlin</td>\n",
       "            <td>389 Surrey Pass</td>\n",
       "        </tr>\n",
       "        <tr>\n",
       "            <td>Silvain Jozsa</td>\n",
       "            <td>19269 Maryland Hill</td>\n",
       "        </tr>\n",
       "        <tr>\n",
       "            <td>Wilbur Francino</td>\n",
       "            <td>21840 Golden Leaf Avenue</td>\n",
       "        </tr>\n",
       "        <tr>\n",
       "            <td>Amy Grenkov</td>\n",
       "            <td>2263 Weeping Birch Center</td>\n",
       "        </tr>\n",
       "    </tbody>\n",
       "</table>"
      ]
     },
     "execution_count": 3,
     "metadata": {},
     "output_type": "execute_result"
    }
   ],
   "execution_count": 3
  },
  {
   "metadata": {},
   "cell_type": "markdown",
   "source": [
    "### Exists\n",
    "*Explaination Provided by Tri Setyaji Partly*\n",
    "> Exists is used to check if a subquery returns any rows\n",
    "> - The query inside and outside must be connected, an example below, we connect the StaffID from MsStaff in the inner query and StaffID from TransactionHeader in the outer query"
   ],
   "id": "761495d63e97aa7b"
  },
  {
   "metadata": {
    "ExecuteTime": {
     "end_time": "2024-06-17T13:55:57.318338Z",
     "start_time": "2024-06-17T13:55:57.280294Z"
    }
   },
   "cell_type": "code",
   "source": [
    "%%sql\n",
    "--provided by Ezzedin\n",
    "select CustomerName, count(TransactionID) as 'NumberOfTransaction' \n",
    "from MsCustomer mc\n",
    "join TransactionHeader th on mc.CustomerID = th.CustomerID\n",
    "where CustomerGender = 'Female' and exists(\n",
    "\tselect 1\n",
    "\tfrom MsStaff ms\n",
    "\twhere th.StaffID = ms.StaffID and StaffGender = 'Male')\n",
    "group by CustomerName"
   ],
   "id": "2cd1205887153a9c",
   "outputs": [
    {
     "data": {
      "text/plain": [
       "Running query in 'mssql+pyodbc://?odbc_connect=DRIVER%3D%7BSQL+Server%7D%3BSERVER%3D127.0.0.1%2C1433%3BDATABASE%3DUasExample%3BTrusted_Connection%3Dyes%3B'"
      ],
      "text/html": [
       "<span style=\"None\">Running query in &#x27;mssql+pyodbc://?odbc_connect=DRIVER%3D%7BSQL+Server%7D%3BSERVER%3D127.0.0.1%2C1433%3BDATABASE%3DUasExample%3BTrusted_Connection%3Dyes%3B&#x27;</span>"
      ]
     },
     "metadata": {},
     "output_type": "display_data"
    },
    {
     "data": {
      "text/plain": [
       "+-------------------+---------------------+\n",
       "|    CustomerName   | NumberOfTransaction |\n",
       "+-------------------+---------------------+\n",
       "| Hadleigh Playfoot |          1          |\n",
       "|   Javier Drewson  |          1          |\n",
       "|   Silvain Jozsa   |          1          |\n",
       "|    Sofie Carmen   |          1          |\n",
       "|   Westley Boram   |          1          |\n",
       "|  Wilbur Francino  |          2          |\n",
       "+-------------------+---------------------+"
      ],
      "text/html": [
       "<table>\n",
       "    <thead>\n",
       "        <tr>\n",
       "            <th>CustomerName</th>\n",
       "            <th>NumberOfTransaction</th>\n",
       "        </tr>\n",
       "    </thead>\n",
       "    <tbody>\n",
       "        <tr>\n",
       "            <td>Hadleigh Playfoot</td>\n",
       "            <td>1</td>\n",
       "        </tr>\n",
       "        <tr>\n",
       "            <td>Javier Drewson</td>\n",
       "            <td>1</td>\n",
       "        </tr>\n",
       "        <tr>\n",
       "            <td>Silvain Jozsa</td>\n",
       "            <td>1</td>\n",
       "        </tr>\n",
       "        <tr>\n",
       "            <td>Sofie Carmen</td>\n",
       "            <td>1</td>\n",
       "        </tr>\n",
       "        <tr>\n",
       "            <td>Westley Boram</td>\n",
       "            <td>1</td>\n",
       "        </tr>\n",
       "        <tr>\n",
       "            <td>Wilbur Francino</td>\n",
       "            <td>2</td>\n",
       "        </tr>\n",
       "    </tbody>\n",
       "</table>"
      ]
     },
     "execution_count": 4,
     "metadata": {},
     "output_type": "execute_result"
    }
   ],
   "execution_count": 4
  },
  {
   "metadata": {},
   "cell_type": "markdown",
   "source": [
    "## Joins\n",
    "### Inner Join\n",
    "![Inner Join Example (Diagram)](D:\\sunib\\Python\\Test\\img_inner_join.png)"
   ],
   "id": "fcf8ce4ff335eb5f"
  },
  {
   "metadata": {
    "ExecuteTime": {
     "end_time": "2024-06-17T15:06:53.135297Z",
     "start_time": "2024-06-17T15:06:53.106358Z"
    }
   },
   "cell_type": "code",
   "source": [
    "%%sql\n",
    "select th.TransactionID, CustomerName, StaffName, TransactionDate\n",
    "from TransactionHeader th\n",
    "inner join MsCustomer c on th.CustomerID = c.CustomerID\n",
    "inner join MsStaff s on th.StaffID = s.StaffID"
   ],
   "id": "ed94c794b990cf32",
   "outputs": [
    {
     "data": {
      "text/plain": [
       "Running query in 'mssql+pyodbc://?odbc_connect=DRIVER%3D%7BSQL+Server%7D%3BSERVER%3D127.0.0.1%2C1433%3BDATABASE%3DUasExample%3BTrusted_Connection%3Dyes%3B'"
      ],
      "text/html": [
       "<span style=\"None\">Running query in &#x27;mssql+pyodbc://?odbc_connect=DRIVER%3D%7BSQL+Server%7D%3BSERVER%3D127.0.0.1%2C1433%3BDATABASE%3DUasExample%3BTrusted_Connection%3Dyes%3B&#x27;</span>"
      ]
     },
     "metadata": {},
     "output_type": "display_data"
    },
    {
     "data": {
      "text/plain": [
       "+---------------+-----------------+-----------------------+-----------------+\n",
       "| TransactionID |   CustomerName  |       StaffName       | TransactionDate |\n",
       "+---------------+-----------------+-----------------------+-----------------+\n",
       "|     TR001     | Pooh McCutcheon | Dorothea Santoso Jaya |    2020-09-06   |\n",
       "|     TR002     |   Amy Grenkov   |      Clem Wijaya      |    2020-06-05   |\n",
       "|     TR003     | Wilbur Francino |   Ruddi Yudi Chandra  |    2020-12-18   |\n",
       "|     TR004     |   Alex Meekins  |      Clem Wijaya      |    2020-12-15   |\n",
       "|     TR005     |   Sofie Carmen  |     Tyrone Potter     |    2020-08-04   |\n",
       "|     TR006     |   Dukey Diano   |      Tabby Tobing     |    2021-02-19   |\n",
       "|     TR007     |  Cherice Jermey |       Curr Rosie      |    2021-01-01   |\n",
       "|     TR008     |  Javier Drewson |       Don Tello       |    2021-04-28   |\n",
       "|     TR009     |   Amy Grenkov   |      Chet Marrie      |    2020-06-22   |\n",
       "|     TR010     | Wilbur Francino |      Shanda Dewi      |    2020-06-13   |\n",
       "+---------------+-----------------+-----------------------+-----------------+\n",
       "Truncated to displaylimit of 10."
      ],
      "text/html": [
       "<table>\n",
       "    <thead>\n",
       "        <tr>\n",
       "            <th>TransactionID</th>\n",
       "            <th>CustomerName</th>\n",
       "            <th>StaffName</th>\n",
       "            <th>TransactionDate</th>\n",
       "        </tr>\n",
       "    </thead>\n",
       "    <tbody>\n",
       "        <tr>\n",
       "            <td>TR001</td>\n",
       "            <td>Pooh McCutcheon</td>\n",
       "            <td>Dorothea Santoso Jaya</td>\n",
       "            <td>2020-09-06</td>\n",
       "        </tr>\n",
       "        <tr>\n",
       "            <td>TR002</td>\n",
       "            <td>Amy Grenkov</td>\n",
       "            <td>Clem Wijaya</td>\n",
       "            <td>2020-06-05</td>\n",
       "        </tr>\n",
       "        <tr>\n",
       "            <td>TR003</td>\n",
       "            <td>Wilbur Francino</td>\n",
       "            <td>Ruddi Yudi Chandra</td>\n",
       "            <td>2020-12-18</td>\n",
       "        </tr>\n",
       "        <tr>\n",
       "            <td>TR004</td>\n",
       "            <td>Alex Meekins</td>\n",
       "            <td>Clem Wijaya</td>\n",
       "            <td>2020-12-15</td>\n",
       "        </tr>\n",
       "        <tr>\n",
       "            <td>TR005</td>\n",
       "            <td>Sofie Carmen</td>\n",
       "            <td>Tyrone Potter</td>\n",
       "            <td>2020-08-04</td>\n",
       "        </tr>\n",
       "        <tr>\n",
       "            <td>TR006</td>\n",
       "            <td>Dukey Diano</td>\n",
       "            <td>Tabby Tobing</td>\n",
       "            <td>2021-02-19</td>\n",
       "        </tr>\n",
       "        <tr>\n",
       "            <td>TR007</td>\n",
       "            <td>Cherice Jermey</td>\n",
       "            <td>Curr Rosie</td>\n",
       "            <td>2021-01-01</td>\n",
       "        </tr>\n",
       "        <tr>\n",
       "            <td>TR008</td>\n",
       "            <td>Javier Drewson</td>\n",
       "            <td>Don Tello</td>\n",
       "            <td>2021-04-28</td>\n",
       "        </tr>\n",
       "        <tr>\n",
       "            <td>TR009</td>\n",
       "            <td>Amy Grenkov</td>\n",
       "            <td>Chet Marrie</td>\n",
       "            <td>2020-06-22</td>\n",
       "        </tr>\n",
       "        <tr>\n",
       "            <td>TR010</td>\n",
       "            <td>Wilbur Francino</td>\n",
       "            <td>Shanda Dewi</td>\n",
       "            <td>2020-06-13</td>\n",
       "        </tr>\n",
       "    </tbody>\n",
       "</table>\n",
       "<span style=\"font-style:italic;text-align:center;\">Truncated to <a href=\"https://jupysql.ploomber.io/en/latest/api/configuration.html#displaylimit\">displaylimit</a> of 10.</span>"
      ]
     },
     "execution_count": 6,
     "metadata": {},
     "output_type": "execute_result"
    }
   ],
   "execution_count": 6
  },
  {
   "metadata": {},
   "cell_type": "markdown",
   "source": [
    "### Outer Joins\n",
    "- Left Outer Join"
   ],
   "id": "dc6897d47481f9cc"
  },
  {
   "metadata": {
    "ExecuteTime": {
     "end_time": "2024-06-17T15:07:33.058121Z",
     "start_time": "2024-06-17T15:07:33.031755Z"
    }
   },
   "cell_type": "code",
   "source": [
    "%%sql\n",
    "select CustomerName, th.TransactionID, TransactionDate\n",
    "from MsCustomer c\n",
    "left outer join TransactionHeader th on c.CustomerID = th.CustomerID"
   ],
   "id": "6157103691baba61",
   "outputs": [
    {
     "data": {
      "text/plain": [
       "Running query in 'mssql+pyodbc://?odbc_connect=DRIVER%3D%7BSQL+Server%7D%3BSERVER%3D127.0.0.1%2C1433%3BDATABASE%3DUasExample%3BTrusted_Connection%3Dyes%3B'"
      ],
      "text/html": [
       "<span style=\"None\">Running query in &#x27;mssql+pyodbc://?odbc_connect=DRIVER%3D%7BSQL+Server%7D%3BSERVER%3D127.0.0.1%2C1433%3BDATABASE%3DUasExample%3BTrusted_Connection%3Dyes%3B&#x27;</span>"
      ]
     },
     "metadata": {},
     "output_type": "display_data"
    },
    {
     "data": {
      "text/plain": [
       "+-----------------+---------------+-----------------+\n",
       "|   CustomerName  | TransactionID | TransactionDate |\n",
       "+-----------------+---------------+-----------------+\n",
       "|  Dirk Titterell |     TR014     |    2020-08-22   |\n",
       "|   Dukey Diano   |     TR006     |    2021-02-19   |\n",
       "|   Dukey Diano   |     TR018     |    2021-04-05   |\n",
       "|   Alex Meekins  |     TR004     |    2020-12-15   |\n",
       "|  Cherice Jermey |     TR007     |    2021-01-01   |\n",
       "|  Ingamar Carlin |     TR013     |    2021-03-18   |\n",
       "|  Ingamar Carlin |     TR017     |    2020-03-28   |\n",
       "| Pooh McCutcheon |     TR001     |    2020-09-06   |\n",
       "|  Silvain Jozsa  |     TR011     |    2020-06-04   |\n",
       "|  Silvain Jozsa  |     TR016     |    2020-01-02   |\n",
       "+-----------------+---------------+-----------------+\n",
       "Truncated to displaylimit of 10."
      ],
      "text/html": [
       "<table>\n",
       "    <thead>\n",
       "        <tr>\n",
       "            <th>CustomerName</th>\n",
       "            <th>TransactionID</th>\n",
       "            <th>TransactionDate</th>\n",
       "        </tr>\n",
       "    </thead>\n",
       "    <tbody>\n",
       "        <tr>\n",
       "            <td>Dirk Titterell</td>\n",
       "            <td>TR014</td>\n",
       "            <td>2020-08-22</td>\n",
       "        </tr>\n",
       "        <tr>\n",
       "            <td>Dukey Diano</td>\n",
       "            <td>TR006</td>\n",
       "            <td>2021-02-19</td>\n",
       "        </tr>\n",
       "        <tr>\n",
       "            <td>Dukey Diano</td>\n",
       "            <td>TR018</td>\n",
       "            <td>2021-04-05</td>\n",
       "        </tr>\n",
       "        <tr>\n",
       "            <td>Alex Meekins</td>\n",
       "            <td>TR004</td>\n",
       "            <td>2020-12-15</td>\n",
       "        </tr>\n",
       "        <tr>\n",
       "            <td>Cherice Jermey</td>\n",
       "            <td>TR007</td>\n",
       "            <td>2021-01-01</td>\n",
       "        </tr>\n",
       "        <tr>\n",
       "            <td>Ingamar Carlin</td>\n",
       "            <td>TR013</td>\n",
       "            <td>2021-03-18</td>\n",
       "        </tr>\n",
       "        <tr>\n",
       "            <td>Ingamar Carlin</td>\n",
       "            <td>TR017</td>\n",
       "            <td>2020-03-28</td>\n",
       "        </tr>\n",
       "        <tr>\n",
       "            <td>Pooh McCutcheon</td>\n",
       "            <td>TR001</td>\n",
       "            <td>2020-09-06</td>\n",
       "        </tr>\n",
       "        <tr>\n",
       "            <td>Silvain Jozsa</td>\n",
       "            <td>TR011</td>\n",
       "            <td>2020-06-04</td>\n",
       "        </tr>\n",
       "        <tr>\n",
       "            <td>Silvain Jozsa</td>\n",
       "            <td>TR016</td>\n",
       "            <td>2020-01-02</td>\n",
       "        </tr>\n",
       "    </tbody>\n",
       "</table>\n",
       "<span style=\"font-style:italic;text-align:center;\">Truncated to <a href=\"https://jupysql.ploomber.io/en/latest/api/configuration.html#displaylimit\">displaylimit</a> of 10.</span>"
      ]
     },
     "execution_count": 7,
     "metadata": {},
     "output_type": "execute_result"
    }
   ],
   "execution_count": 7
  },
  {
   "metadata": {},
   "cell_type": "markdown",
   "source": "- Right Outer Join",
   "id": "b2461197bf0d8819"
  },
  {
   "metadata": {
    "ExecuteTime": {
     "end_time": "2024-06-17T15:08:34.623867Z",
     "start_time": "2024-06-17T15:08:34.593331Z"
    }
   },
   "cell_type": "code",
   "source": [
    "%%sql\n",
    "select th.TransactionID, TransactionDate, CustomerName\n",
    "from TransactionHeader th\n",
    "right outer join MsCustomer c on th.CustomerID = c.CustomerID"
   ],
   "id": "c1cbeabaa5b2d5eb",
   "outputs": [
    {
     "data": {
      "text/plain": [
       "Running query in 'mssql+pyodbc://?odbc_connect=DRIVER%3D%7BSQL+Server%7D%3BSERVER%3D127.0.0.1%2C1433%3BDATABASE%3DUasExample%3BTrusted_Connection%3Dyes%3B'"
      ],
      "text/html": [
       "<span style=\"None\">Running query in &#x27;mssql+pyodbc://?odbc_connect=DRIVER%3D%7BSQL+Server%7D%3BSERVER%3D127.0.0.1%2C1433%3BDATABASE%3DUasExample%3BTrusted_Connection%3Dyes%3B&#x27;</span>"
      ]
     },
     "metadata": {},
     "output_type": "display_data"
    },
    {
     "data": {
      "text/plain": [
       "+---------------+-----------------+-----------------+\n",
       "| TransactionID | TransactionDate |   CustomerName  |\n",
       "+---------------+-----------------+-----------------+\n",
       "|     TR014     |    2020-08-22   |  Dirk Titterell |\n",
       "|     TR006     |    2021-02-19   |   Dukey Diano   |\n",
       "|     TR018     |    2021-04-05   |   Dukey Diano   |\n",
       "|     TR004     |    2020-12-15   |   Alex Meekins  |\n",
       "|     TR007     |    2021-01-01   |  Cherice Jermey |\n",
       "|     TR013     |    2021-03-18   |  Ingamar Carlin |\n",
       "|     TR017     |    2020-03-28   |  Ingamar Carlin |\n",
       "|     TR001     |    2020-09-06   | Pooh McCutcheon |\n",
       "|     TR011     |    2020-06-04   |  Silvain Jozsa  |\n",
       "|     TR016     |    2020-01-02   |  Silvain Jozsa  |\n",
       "+---------------+-----------------+-----------------+\n",
       "Truncated to displaylimit of 10."
      ],
      "text/html": [
       "<table>\n",
       "    <thead>\n",
       "        <tr>\n",
       "            <th>TransactionID</th>\n",
       "            <th>TransactionDate</th>\n",
       "            <th>CustomerName</th>\n",
       "        </tr>\n",
       "    </thead>\n",
       "    <tbody>\n",
       "        <tr>\n",
       "            <td>TR014</td>\n",
       "            <td>2020-08-22</td>\n",
       "            <td>Dirk Titterell</td>\n",
       "        </tr>\n",
       "        <tr>\n",
       "            <td>TR006</td>\n",
       "            <td>2021-02-19</td>\n",
       "            <td>Dukey Diano</td>\n",
       "        </tr>\n",
       "        <tr>\n",
       "            <td>TR018</td>\n",
       "            <td>2021-04-05</td>\n",
       "            <td>Dukey Diano</td>\n",
       "        </tr>\n",
       "        <tr>\n",
       "            <td>TR004</td>\n",
       "            <td>2020-12-15</td>\n",
       "            <td>Alex Meekins</td>\n",
       "        </tr>\n",
       "        <tr>\n",
       "            <td>TR007</td>\n",
       "            <td>2021-01-01</td>\n",
       "            <td>Cherice Jermey</td>\n",
       "        </tr>\n",
       "        <tr>\n",
       "            <td>TR013</td>\n",
       "            <td>2021-03-18</td>\n",
       "            <td>Ingamar Carlin</td>\n",
       "        </tr>\n",
       "        <tr>\n",
       "            <td>TR017</td>\n",
       "            <td>2020-03-28</td>\n",
       "            <td>Ingamar Carlin</td>\n",
       "        </tr>\n",
       "        <tr>\n",
       "            <td>TR001</td>\n",
       "            <td>2020-09-06</td>\n",
       "            <td>Pooh McCutcheon</td>\n",
       "        </tr>\n",
       "        <tr>\n",
       "            <td>TR011</td>\n",
       "            <td>2020-06-04</td>\n",
       "            <td>Silvain Jozsa</td>\n",
       "        </tr>\n",
       "        <tr>\n",
       "            <td>TR016</td>\n",
       "            <td>2020-01-02</td>\n",
       "            <td>Silvain Jozsa</td>\n",
       "        </tr>\n",
       "    </tbody>\n",
       "</table>\n",
       "<span style=\"font-style:italic;text-align:center;\">Truncated to <a href=\"https://jupysql.ploomber.io/en/latest/api/configuration.html#displaylimit\">displaylimit</a> of 10.</span>"
      ]
     },
     "execution_count": 8,
     "metadata": {},
     "output_type": "execute_result"
    }
   ],
   "execution_count": 8
  },
  {
   "metadata": {},
   "cell_type": "markdown",
   "source": "- Full Outer Join",
   "id": "2998c3cc4e9e84a7"
  },
  {
   "metadata": {
    "ExecuteTime": {
     "end_time": "2024-06-17T15:09:35.405325Z",
     "start_time": "2024-06-17T15:09:35.379664Z"
    }
   },
   "cell_type": "code",
   "source": [
    "%%sql\n",
    "select CustomerName, th.TransactionID, TransactionDate\n",
    "from MsCustomer c\n",
    "full outer join TransactionHeader th on c.CustomerID = th.CustomerID"
   ],
   "id": "4f96b197b1848140",
   "outputs": [
    {
     "data": {
      "text/plain": [
       "Running query in 'mssql+pyodbc://?odbc_connect=DRIVER%3D%7BSQL+Server%7D%3BSERVER%3D127.0.0.1%2C1433%3BDATABASE%3DUasExample%3BTrusted_Connection%3Dyes%3B'"
      ],
      "text/html": [
       "<span style=\"None\">Running query in &#x27;mssql+pyodbc://?odbc_connect=DRIVER%3D%7BSQL+Server%7D%3BSERVER%3D127.0.0.1%2C1433%3BDATABASE%3DUasExample%3BTrusted_Connection%3Dyes%3B&#x27;</span>"
      ]
     },
     "metadata": {},
     "output_type": "display_data"
    },
    {
     "data": {
      "text/plain": [
       "+-----------------+---------------+-----------------+\n",
       "|   CustomerName  | TransactionID | TransactionDate |\n",
       "+-----------------+---------------+-----------------+\n",
       "|  Dirk Titterell |     TR014     |    2020-08-22   |\n",
       "|   Dukey Diano   |     TR006     |    2021-02-19   |\n",
       "|   Dukey Diano   |     TR018     |    2021-04-05   |\n",
       "|   Alex Meekins  |     TR004     |    2020-12-15   |\n",
       "|  Cherice Jermey |     TR007     |    2021-01-01   |\n",
       "|  Ingamar Carlin |     TR013     |    2021-03-18   |\n",
       "|  Ingamar Carlin |     TR017     |    2020-03-28   |\n",
       "| Pooh McCutcheon |     TR001     |    2020-09-06   |\n",
       "|  Silvain Jozsa  |     TR011     |    2020-06-04   |\n",
       "|  Silvain Jozsa  |     TR016     |    2020-01-02   |\n",
       "+-----------------+---------------+-----------------+\n",
       "Truncated to displaylimit of 10."
      ],
      "text/html": [
       "<table>\n",
       "    <thead>\n",
       "        <tr>\n",
       "            <th>CustomerName</th>\n",
       "            <th>TransactionID</th>\n",
       "            <th>TransactionDate</th>\n",
       "        </tr>\n",
       "    </thead>\n",
       "    <tbody>\n",
       "        <tr>\n",
       "            <td>Dirk Titterell</td>\n",
       "            <td>TR014</td>\n",
       "            <td>2020-08-22</td>\n",
       "        </tr>\n",
       "        <tr>\n",
       "            <td>Dukey Diano</td>\n",
       "            <td>TR006</td>\n",
       "            <td>2021-02-19</td>\n",
       "        </tr>\n",
       "        <tr>\n",
       "            <td>Dukey Diano</td>\n",
       "            <td>TR018</td>\n",
       "            <td>2021-04-05</td>\n",
       "        </tr>\n",
       "        <tr>\n",
       "            <td>Alex Meekins</td>\n",
       "            <td>TR004</td>\n",
       "            <td>2020-12-15</td>\n",
       "        </tr>\n",
       "        <tr>\n",
       "            <td>Cherice Jermey</td>\n",
       "            <td>TR007</td>\n",
       "            <td>2021-01-01</td>\n",
       "        </tr>\n",
       "        <tr>\n",
       "            <td>Ingamar Carlin</td>\n",
       "            <td>TR013</td>\n",
       "            <td>2021-03-18</td>\n",
       "        </tr>\n",
       "        <tr>\n",
       "            <td>Ingamar Carlin</td>\n",
       "            <td>TR017</td>\n",
       "            <td>2020-03-28</td>\n",
       "        </tr>\n",
       "        <tr>\n",
       "            <td>Pooh McCutcheon</td>\n",
       "            <td>TR001</td>\n",
       "            <td>2020-09-06</td>\n",
       "        </tr>\n",
       "        <tr>\n",
       "            <td>Silvain Jozsa</td>\n",
       "            <td>TR011</td>\n",
       "            <td>2020-06-04</td>\n",
       "        </tr>\n",
       "        <tr>\n",
       "            <td>Silvain Jozsa</td>\n",
       "            <td>TR016</td>\n",
       "            <td>2020-01-02</td>\n",
       "        </tr>\n",
       "    </tbody>\n",
       "</table>\n",
       "<span style=\"font-style:italic;text-align:center;\">Truncated to <a href=\"https://jupysql.ploomber.io/en/latest/api/configuration.html#displaylimit\">displaylimit</a> of 10.</span>"
      ]
     },
     "execution_count": 9,
     "metadata": {},
     "output_type": "execute_result"
    }
   ],
   "execution_count": 9
  }
 ],
 "metadata": {
  "kernelspec": {
   "display_name": "Python 3",
   "language": "python",
   "name": "python3"
  },
  "language_info": {
   "codemirror_mode": {
    "name": "ipython",
    "version": 2
   },
   "file_extension": ".py",
   "mimetype": "text/x-python",
   "name": "python",
   "nbconvert_exporter": "python",
   "pygments_lexer": "ipython2",
   "version": "2.7.6"
  }
 },
 "nbformat": 4,
 "nbformat_minor": 5
}
